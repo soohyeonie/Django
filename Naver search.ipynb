{
 "cells": [
  {
   "cell_type": "code",
   "execution_count": 1,
   "metadata": {},
   "outputs": [],
   "source": [
    "import requests\n",
    "from bs4 import BeautifulSoup"
   ]
  },
  {
   "cell_type": "code",
   "execution_count": 2,
   "metadata": {},
   "outputs": [],
   "source": [
    "html = requests.get('http://naver.com').text\n",
    "soup = BeautifulSoup(html, 'html.parser')"
   ]
  },
  {
   "cell_type": "code",
   "execution_count": 4,
   "metadata": {},
   "outputs": [
    {
     "name": "stdout",
     "output_type": "stream",
     "text": [
      "1 송원석\n",
      "2 이화여자대학교 휴먼기계바이오공학부\n",
      "3 팜테크\n",
      "4 최성민\n",
      "5 휴먼기계바이오공학부\n",
      "6 아키라\n",
      "7 허영지\n",
      "8 스마트팜\n",
      "9 하나뿐인 내편 몇부작\n",
      "10 자경문\n",
      "11 석주일\n",
      "12 네이처\n",
      "13 성룡 자서전\n",
      "14 이은형\n",
      "15 어뜨무러차\n",
      "16 최수종 나이\n",
      "17 텔로미어\n",
      "18 코미디빅리그 갑분싸\n",
      "19 복면가왕 독수리건\n",
      "20 김종국\n"
     ]
    }
   ],
   "source": [
    "tag_list = soup.select('.PM_CL_realtimeKeyword_rolling .ah_item .ah_k')\n",
    "for idx, tag in enumerate(tag_list,1):\n",
    "    print(idx, tag.text)"
   ]
  },
  {
   "cell_type": "code",
   "execution_count": 20,
   "metadata": {},
   "outputs": [],
   "source": [
    "import requests\n",
    "from bs4 import BeautifulSoup\n",
    "from collections import OrderedDict\n",
    "from itertools import count\n",
    "\n",
    "def naver_blog_search(q) :\n",
    "    url = 'https://search.naver.com/search.naver'\n",
    "    \n",
    "    post_dict = OrderedDict()\n",
    "    \n",
    "    for page in count(1):\n",
    "        params = {\n",
    "            \"where\" : \"post\",\n",
    "            \"query\" : q,\n",
    "            \"start\" : (page-1)*10 + 1, #1, 11, 21, 31, 41\n",
    "        }\n",
    "\n",
    "        html = requests.get(url, params = params).text\n",
    "        soup = BeautifulSoup(html,'html.parser')\n",
    "        for tag in soup.select('.sh_blog_title'):\n",
    "            if tag['href'] in post_dict:\n",
    "                return post_dict\n",
    "            print(tag.text, tag['href'])\n",
    "            post_dict[tag['href']] = tag.text\n",
    "        return post_dict\n"
   ]
  },
  {
   "cell_type": "code",
   "execution_count": 22,
   "metadata": {},
   "outputs": [
    {
     "name": "stdout",
     "output_type": "stream",
     "text": [
      "방식으로 구현된 사이트 크롤링(405Error) (AskDjango) https://blog.naver.com/21ahn?Redirect=Log&logNo=221329975739\n",
      "2017.02 네이버 맞춤법 검사기 (출처: askdjango) https://the7mincheol.blog.me/220940162131\n",
      "[askDjango] 파이썬 차근차근 시작하기 (1) https://blog.naver.com/sym0222?Redirect=Log&logNo=221271991066\n",
      "Askdjango) 파이썬 기본문법 정리 18) 파이썬 클래스... http://myjorney.tistory.com/26\n",
      "askdjango - 개발 환경 강의 정리 https://blog.naver.com/scarletbreez?Redirect=Log&logNo=221178294385\n",
      "[온오프믹스][AskDjango 특강] 장고 간단 튜토리얼 및 Azure... http://secure-edu.tistory.com/1846\n",
      "[AskDjango] 강의 노트 #1 https://kirade.github.io/django/2018/02/01/askdjango-%EA%B0%95%EC%9D%98-%EB%85%B8%ED%8A%B8-1/\n",
      "[python] BeautifulSoup4 라이브러리 살펴보기 (AskDjango) https://blog.naver.com/21ahn?Redirect=Log&logNo=221330643924\n",
      "2017.03 멜론 노래 검색기 (출처: askdjango) https://the7mincheol.blog.me/220947602901\n",
      "[askDjango] 파이썬 차근차근 시작하기 (2) https://blog.naver.com/sym0222?Redirect=Log&logNo=221275875928\n"
     ]
    },
    {
     "data": {
      "text/plain": [
       "OrderedDict([('https://blog.naver.com/21ahn?Redirect=Log&logNo=221329975739',\n",
       "              '방식으로 구현된 사이트 크롤링(405Error) (AskDjango)'),\n",
       "             ('https://the7mincheol.blog.me/220940162131',\n",
       "              '2017.02 네이버 맞춤법 검사기 (출처: askdjango)'),\n",
       "             ('https://blog.naver.com/sym0222?Redirect=Log&logNo=221271991066',\n",
       "              '[askDjango] 파이썬 차근차근 시작하기 (1)'),\n",
       "             ('http://myjorney.tistory.com/26',\n",
       "              'Askdjango) 파이썬 기본문법 정리 18) 파이썬 클래스...'),\n",
       "             ('https://blog.naver.com/scarletbreez?Redirect=Log&logNo=221178294385',\n",
       "              'askdjango - 개발 환경 강의 정리'),\n",
       "             ('http://secure-edu.tistory.com/1846',\n",
       "              '[온오프믹스][AskDjango 특강] 장고 간단 튜토리얼 및 Azure...'),\n",
       "             ('https://kirade.github.io/django/2018/02/01/askdjango-%EA%B0%95%EC%9D%98-%EB%85%B8%ED%8A%B8-1/',\n",
       "              '[AskDjango] 강의 노트 #1'),\n",
       "             ('https://blog.naver.com/21ahn?Redirect=Log&logNo=221330643924',\n",
       "              '[python] BeautifulSoup4 라이브러리 살펴보기 (AskDjango)'),\n",
       "             ('https://the7mincheol.blog.me/220947602901',\n",
       "              '2017.03 멜론 노래 검색기 (출처: askdjango)'),\n",
       "             ('https://blog.naver.com/sym0222?Redirect=Log&logNo=221275875928',\n",
       "              '[askDjango] 파이썬 차근차근 시작하기 (2)')])"
      ]
     },
     "execution_count": 22,
     "metadata": {},
     "output_type": "execute_result"
    }
   ],
   "source": [
    "result = naver_blog_search('AskDjango')\n",
    "result"
   ]
  },
  {
   "cell_type": "code",
   "execution_count": null,
   "metadata": {},
   "outputs": [],
   "source": []
  }
 ],
 "metadata": {
  "kernelspec": {
   "display_name": "Python 3",
   "language": "python",
   "name": "python3"
  },
  "language_info": {
   "codemirror_mode": {
    "name": "ipython",
    "version": 3
   },
   "file_extension": ".py",
   "mimetype": "text/x-python",
   "name": "python",
   "nbconvert_exporter": "python",
   "pygments_lexer": "ipython3",
   "version": "3.7.2"
  }
 },
 "nbformat": 4,
 "nbformat_minor": 2
}
